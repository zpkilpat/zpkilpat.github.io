{
 "cells": [
  {
   "cell_type": "markdown",
   "metadata": {},
   "source": [
    "## Hodgkin Huxley Model"
   ]
  },
  {
   "attachments": {
    "image.png": {
     "image/png": "[encoded data removed]"
    }
   },
   "cell_type": "markdown",
   "metadata": {},
   "source": [
    "As with the leaky integrate and fire model, the Hodgkin-Huxley model of a neuron is realized by considering a current balance law, treating the neural membrane as an electric circuit. Some models consider the fact that the neuron is spatially extended, which requires some knowledge of advanced linear algebra and/or partial differential equations (see most of Ch.3 of Gerstner et al (2014)). We simply consider a local model here treating the neuron as a single piece of membrane, so the applied current $I(t)$ is split into capacitive current $I_C(t)$ and the sum of all ion channel currents $I_k(t)$ ($k=1,2,....$), so\n",
    "$$\n",
    "I(t) = I_c(t) + \\sum_k I_k(t).\n",
    "$$\n",
    "The Hodgkin-Huxley model has three ion channels as shown here:\n",
    "<img src=\"attachment:image.png\" width=\"300\">\n",
    "a sodium channel (Na), potassium channel (K), and leak channel (L) sometime considered a chloride channel. Noting the capacitance formula $I_C = C du/dt$, we have\n",
    "$$\n",
    "C \\frac{du}{dt} = - I_{Na}(t) - I_K(t) - I_L(t) + I(t)\n",
    "$$\n",
    "It is important to note that each of these ion channel terms is really the average of many ion channels. As in the LIF model, the leak channel's current is proportional to the difference between the neuron voltage $u$ and the resting potential $E_L$ so Ohm's law ($V=IR$) implies $u-E_L = I_L R$ or $I_L = g_L (u-E_L)$ where $g_L = 1/R$ is the *conductance* of the channel.\n",
    "\n",
    "The other two channels follow the same physical laws, but have a probability of being open between zero and one that depends on the voltage $u$, and this probability evolves according to dynamic *gating variables* $m$, $n$, and $h$. The sodium channels is controlled by $m$ and $h$, so $1/R_{Na} = g_{Na} m^3 h$, so $m$ describes the channels opening and $h$ controls channel inactivation (blocking). The potassium channel conductance is $1/R_K = g_K n^4$, so the sum of current is\n",
    "$$\n",
    "\\sum_{k} I_k = g_{Na} m^3 h(u - E_{Na}) + g_K n^4 (u - E_K) + g_L (u - E_L),\n",
    "$$\n",
    "where the variable prefactors ($m,h,n$) determine the fraction of ion channels that are open. The gating variables evolve according to *voltage-gated* transition rates, meaning the rate of transition between open $\\alpha_x$ and closed $\\beta_x$ changes with the voltage. Putting these equations together with the voltage differential equation yields the system\n",
    "$$\n",
    "C \\frac{du}{dt} = I(t) - g_{Na} m^3 h(u - E_{Na}) - g_K n^4 (u - E_K) - g_L (u - E_L)  \\\\\n",
    "\\frac{dm}{dt} = \\alpha_m (u) (1-m) - \\beta_m (u) m  \\\\\n",
    "\\frac{dn}{dt} = \\alpha_n (u) (1-n) - \\beta_n (u) n  \\\\\n",
    "\\frac{dh}{dt} = \\alpha_h(u) (1-h) - \\beta_h (u) h.\n",
    "$$\n",
    "This fully models the voltage dynamics of a neuron up to the needed parameters. We build code using classic parameters (rather than those in Gerstner et al (2014)) from Hodgkin-Huxley shifted so that the resting potential of the neuron is close to zero. First, we present the resting potential $E_x$ and conductance $g_x$ parameters:\n",
    "$E_{Na} = 115$mV, $E_{K} = -12$mV, $E_L = 10.6$mV \n",
    "$g_{Na} = 120$mS/cm$^2$, $g_K = 36$mS/cm$^2$, $g_L = 0.3$mS/cm$^2$,\n",
    "where the conductance is given in millisiemens per area (square centimeters). Membrane conductance is assumed to be $C = 1\\mu$F/cm$^2$. Note, in the code we will take ratios of conductance and capacitance, which will yield mS/$\\mu$F$=$1/ms (1/units of time). The form of the voltage-depedent gating variable switching rates is somewhat complicated and will be given in the python code below."
   ]
  },
  {
   "cell_type": "markdown",
   "metadata": {},
   "source": [
    "Now, to walk through the Hodgkin-Huxley simulation code, we start by importing plotting and numerical computation tools along with the ode integration package."
   ]
  },
  {
   "cell_type": "code",
   "execution_count": 1,
   "metadata": {},
   "outputs": [],
   "source": [
    "import matplotlib.pyplot as plt\n",
    "import numpy as np\n",
    "\n",
    "from scipy.integrate import odeint"
   ]
  },
  {
   "cell_type": "markdown",
   "metadata": {},
   "source": [
    "Subsequently, we define the conductance, voltage reversal potential, and capacitance:"
   ]
  },
  {
   "cell_type": "code",
   "execution_count": 2,
   "metadata": {},
   "outputs": [],
   "source": [
    "gK = 36.0   # average potassium channel conductance per unit area (mS/cm^2)\n",
    "gNa = 120.0 # average sodium channel conductance per unit area (mS/cm^2)\n",
    "gL = 0.3    # average leak channel conductance per unit area (mS/cm^2)\n",
    "\n",
    "EK = -12.0  # potassium potential (mV)\n",
    "ENa = 115.0 # Sodium potential (mV)\n",
    "EL = 10.6   # leak potential (mV)\n",
    "\n",
    "Cm = 1.0    # membrane capacitance per unit area (uF/cm^2)"
   ]
  },
  {
   "cell_type": "markdown",
   "metadata": {},
   "source": [
    "Then the strength of the constant external current:"
   ]
  },
  {
   "cell_type": "code",
   "execution_count": 3,
   "metadata": {},
   "outputs": [],
   "source": [
    "Id = 10    # membrane capacitance per unit area (uF/cm^2)"
   ]
  },
  {
   "cell_type": "markdown",
   "metadata": {},
   "source": [
    "Then the end time and time vector"
   ]
  },
  {
   "cell_type": "code",
   "execution_count": 4,
   "metadata": {},
   "outputs": [],
   "source": [
    "T = 100.0    # end time (in milliseconds)\n",
    "tvec = np.linspace(0, T, 10000)    # time vector"
   ]
  },
  {
   "cell_type": "markdown",
   "metadata": {},
   "source": [
    "Next, the voltage-gated ion channel rate functions. Note, the *def* syntax gives functions which must return something:"
   ]
  },
  {
   "cell_type": "code",
   "execution_count": 5,
   "metadata": {},
   "outputs": [],
   "source": [
    "# potassium ion-channel rate functions\n",
    "def alpha_n(Vm):\n",
    "    return (0.1-0.01*Vm)/(np.exp(1-0.1*Vm)-1)\n",
    "\n",
    "def beta_n(Vm):\n",
    "    return 0.125*np.exp(-Vm/80)\n",
    "\n",
    "# sodium ion-channel rate functions\n",
    "def alpha_m(Vm):\n",
    "    return (2.5-0.1*Vm)/(np.exp(2.5-0.1*Vm)-1)\n",
    "\n",
    "def beta_m(Vm):\n",
    "    return 4*np.exp(-Vm/18)\n",
    "\n",
    "# chloride ion-channel rate functions\n",
    "def alpha_h(Vm):\n",
    "    return 0.07*np.exp(-Vm/20)\n",
    "\n",
    "def beta_h(Vm):\n",
    "    return 1/(np.exp(3-0.1*Vm)+1)"
   ]
  },
  {
   "cell_type": "markdown",
   "metadata": {},
   "source": [
    "What motivates the above forms of the voltage-dependent rates? Consider for instance both $\\beta_n$ and $\\beta_m$, which are both exponentially decaying in the voltage ($V_m$ in the code). This means that when the voltage is low (when the neuron is quiet) the rate of off transitions is higher, which keeps the neuron from spiking spontaneously. Thus, an external current is needed to move the neuron from equilibrium."
   ]
  },
  {
   "cell_type": "markdown",
   "metadata": {},
   "source": [
    "We also compute the steady state values of the gating variables by solving for the equilibria of the gating variable equations when $V_m = 0$mV (about its resting potential)."
   ]
  },
  {
   "cell_type": "code",
   "execution_count": 6,
   "metadata": {},
   "outputs": [],
   "source": [
    "# n, m, and h steady-state values\n",
    "def n_inf(Vm=0.0):\n",
    "    return alpha_n(Vm) / (alpha_n(Vm) + beta_n(Vm))\n",
    "\n",
    "def m_inf(Vm=0.0):\n",
    "    return alpha_m(Vm) / (alpha_m(Vm) + beta_m(Vm))\n",
    "\n",
    "def h_inf(Vm=0.0):\n",
    "    return alpha_h(Vm) / (alpha_h(Vm) + beta_h(Vm))"
   ]
  },
  {
   "cell_type": "markdown",
   "metadata": {},
   "source": [
    "These will be useful in setting initial conditions. Lastly, we define the right hand sides of the differential equations as above, again as a function."
   ]
  },
  {
   "cell_type": "code",
   "execution_count": 7,
   "metadata": {},
   "outputs": [],
   "source": [
    "# compute derivatives\n",
    "def compute_derivatives(y, t0):\n",
    "    dy = np.zeros((4,))\n",
    "    \n",
    "    Vm = y[0]\n",
    "    n = y[1]\n",
    "    m = y[2]\n",
    "    h = y[3]\n",
    "    \n",
    "    # dVm/dt\n",
    "    GK = (gK/Cm)*np.power(n,4.0)\n",
    "    GNa = (gNa/Cm)*np.power(m,3.0)*h\n",
    "    GL = gL/Cm\n",
    "    \n",
    "    dy[0] = (Id/Cm)-(GK*(Vm-EK))-(GNa*(Vm-ENa))-(GL*(Vm-EL))\n",
    "    \n",
    "    # dn/dt\n",
    "    dy[1] = (alpha_n(Vm)*(1-n))-(beta_n(Vm)*n)\n",
    "    \n",
    "    # dm/dt\n",
    "    dy[2] = (alpha_m(Vm)*(1-m))-(beta_m(Vm)*m)\n",
    "    \n",
    "    # dh/dt\n",
    "    dy[3] = (alpha_h(Vm)*(1-h))-(beta_h(Vm)*h)\n",
    "    \n",
    "    return dy"
   ]
  },
  {
   "cell_type": "markdown",
   "metadata": {},
   "source": [
    "Now we are ready to set initial conditions as an array:"
   ]
  },
  {
   "cell_type": "code",
   "execution_count": 8,
   "metadata": {},
   "outputs": [],
   "source": [
    "# state (Vm, n, m, h)\n",
    "Y = np.array([0.0, n_inf(), m_inf(), h_inf()])"
   ]
  },
  {
   "cell_type": "markdown",
   "metadata": {},
   "source": [
    "And solve the ODE system using *odeint*"
   ]
  },
  {
   "cell_type": "code",
   "execution_count": 9,
   "metadata": {},
   "outputs": [],
   "source": [
    "# solve ODE system\n",
    "# vy = (Vm[t0:tmax], n[t0:tmax], m[t0:tmax], h[t0:tmax])\n",
    "Vy = odeint(compute_derivatives, Y, tvec)"
   ]
  },
  {
   "cell_type": "markdown",
   "metadata": {},
   "source": [
    "And finally plot the neuron potential as a function of time."
   ]
  },
  {
   "cell_type": "code",
   "execution_count": 10,
   "metadata": {},
   "outputs": [
    {
     "data": {
      "image/png": "[encoded data removed]",
      "text/plain": [
       "<Figure size 432x288 with 1 Axes>"
      ]
     },
     "metadata": {
      "needs_background": "light"
     },
     "output_type": "display_data"
    }
   ],
   "source": [
    "# plot neuron potential\n",
    "fig = plt.figure()       \n",
    "plt.plot(tvec, Vy[:, 0],linewidth=5)\n",
    "plt.xlabel('time (ms)')\n",
    "plt.ylabel('voltage (mV)')\n",
    "plt.show()"
   ]
  },
  {
   "cell_type": "markdown",
   "metadata": {},
   "source": [
    "Note, you can go back up and change parameters and rerun all the scripts to see how this changes the evolution of voltage in the model. You will use the accompanying python code hh_spike.py as part of HW1 to study the HH model."
   ]
  }
 ],
 "metadata": {
  "kernelspec": {
   "display_name": "Python 3",
   "language": "python",
   "name": "python3"
  },
  "language_info": {
   "codemirror_mode": {
    "name": "ipython",
    "version": 3
   },
   "file_extension": ".py",
   "mimetype": "text/x-python",
   "name": "python",
   "nbconvert_exporter": "python",
   "pygments_lexer": "ipython3",
   "version": "3.7.4"
  }
 },
 "nbformat": 4,
 "nbformat_minor": 2
}
